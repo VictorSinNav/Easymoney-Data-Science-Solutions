{
 "cells": [
  {
   "cell_type": "markdown",
   "metadata": {},
   "source": [
    "### **4. Customer segmentation**\n",
    "\n",
    "In this section, we will segment our customers in order to guide our commercial activity. Knowing what the customers who belong to each group are like, will help us a lot when defining our marketing for the future. The phases we will work on include:\n",
    "\n",
    "**4.1 Construction and last cleaning:**  \n",
    "**4.2 Clustering using k-means:**     \n",
    "**4.3 Cluster interpretation:**    \n",
    "**4.4 Clients file:**    \n",
    "\n"
   ]
  },
  {
   "cell_type": "markdown",
   "metadata": {},
   "source": [
    "Libraries:"
   ]
  },
  {
   "cell_type": "code",
   "execution_count": 1,
   "metadata": {},
   "outputs": [],
   "source": [
    "# Data analysis and wrangling\n",
    "import numpy as np\n",
    "import pandas as pd\n",
    "import datetime\n",
    "import time\n",
    "from sklearn.preprocessing import LabelEncoder,MinMaxScaler,OrdinalEncoder,StandardScaler\n",
    "from sklearn.feature_selection import VarianceThreshold\n",
    "\n",
    "# Visualization\n",
    "import seaborn as sns\n",
    "import matplotlib.pyplot as plt\n",
    "from matplotlib import colors\n",
    "\n",
    "# Machine learning\n",
    "from sklearn.cluster import KMeans\n",
    "from sklearn.decomposition import PCA\n",
    "from sklearn import metrics"
   ]
  },
  {
   "cell_type": "markdown",
   "metadata": {},
   "source": [
    "Acquire data from the last notebook:"
   ]
  },
  {
   "cell_type": "code",
   "execution_count": 2,
   "metadata": {},
   "outputs": [],
   "source": [
    "df = pd.read_csv('data2_easymoney.csv')"
   ]
  },
  {
   "cell_type": "markdown",
   "metadata": {},
   "source": [
    "A small data type fix"
   ]
  },
  {
   "cell_type": "code",
   "execution_count": 3,
   "metadata": {},
   "outputs": [],
   "source": [
    "df[\"pk_partition\"]=pd.to_datetime(df[\"pk_partition\"], format='%Y-%m-%d')\n",
    "df[\"entry_date\"]=pd.to_datetime(df[\"entry_date\"], format='%Y-%m-%d')"
   ]
  },
  {
   "cell_type": "markdown",
   "metadata": {},
   "source": [
    "#### **4.1 Construction and last cleaning**"
   ]
  },
  {
   "cell_type": "markdown",
   "metadata": {},
   "source": [
    "We will want to segment current customers, so we will use the data from the last month that we have in the registry. Additionally, when segmenting customers, we will only want customers who are currently alive, that is, deceased = 0."
   ]
  },
  {
   "cell_type": "code",
   "execution_count": 4,
   "metadata": {},
   "outputs": [
    {
     "data": {
      "text/plain": [
       "<DatetimeArray>\n",
       "['2018-01-28 00:00:00', '2018-02-28 00:00:00', '2018-03-28 00:00:00',\n",
       " '2018-04-28 00:00:00', '2018-05-28 00:00:00', '2018-06-28 00:00:00',\n",
       " '2018-07-28 00:00:00', '2018-08-28 00:00:00', '2018-09-28 00:00:00',\n",
       " '2018-10-28 00:00:00', '2018-11-28 00:00:00', '2018-12-28 00:00:00',\n",
       " '2019-01-28 00:00:00', '2019-02-28 00:00:00', '2019-03-28 00:00:00',\n",
       " '2019-04-28 00:00:00', '2019-05-28 00:00:00']\n",
       "Length: 17, dtype: datetime64[ns]"
      ]
     },
     "execution_count": 4,
     "metadata": {},
     "output_type": "execute_result"
    }
   ],
   "source": [
    "#We see the partitions of the dataset\n",
    "df['pk_partition'].unique()"
   ]
  },
  {
   "cell_type": "code",
   "execution_count": 5,
   "metadata": {},
   "outputs": [
    {
     "data": {
      "text/plain": [
       "deceased\n",
       "0    5961849\n",
       "1       1075\n",
       "Name: count, dtype: int64"
      ]
     },
     "execution_count": 5,
     "metadata": {},
     "output_type": "execute_result"
    }
   ],
   "source": [
    "#We see that we have 1075 dead clients\n",
    "df['deceased'].value_counts()"
   ]
  },
  {
   "cell_type": "markdown",
   "metadata": {},
   "source": [
    "We create our dataframe, df_last_partition , with the last partition + live clients:"
   ]
  },
  {
   "cell_type": "code",
   "execution_count": 6,
   "metadata": {},
   "outputs": [
    {
     "name": "stdout",
     "output_type": "stream",
     "text": [
      "(442909, 30)\n"
     ]
    },
    {
     "data": {
      "text/html": [
       "<div>\n",
       "<style scoped>\n",
       "    .dataframe tbody tr th:only-of-type {\n",
       "        vertical-align: middle;\n",
       "    }\n",
       "\n",
       "    .dataframe tbody tr th {\n",
       "        vertical-align: top;\n",
       "    }\n",
       "\n",
       "    .dataframe thead th {\n",
       "        text-align: right;\n",
       "    }\n",
       "</style>\n",
       "<table border=\"1\" class=\"dataframe\">\n",
       "  <thead>\n",
       "    <tr style=\"text-align: right;\">\n",
       "      <th></th>\n",
       "      <th>pk_cid</th>\n",
       "      <th>pk_partition</th>\n",
       "      <th>short_term_deposit</th>\n",
       "      <th>loans</th>\n",
       "      <th>mortgage</th>\n",
       "      <th>funds</th>\n",
       "      <th>securities</th>\n",
       "      <th>long_term_deposit</th>\n",
       "      <th>credit_card</th>\n",
       "      <th>payroll</th>\n",
       "      <th>...</th>\n",
       "      <th>country_id</th>\n",
       "      <th>region_code</th>\n",
       "      <th>gender</th>\n",
       "      <th>age</th>\n",
       "      <th>deceased</th>\n",
       "      <th>salary</th>\n",
       "      <th>total_products</th>\n",
       "      <th>account_prod</th>\n",
       "      <th>financing_prod</th>\n",
       "      <th>saving_prod</th>\n",
       "    </tr>\n",
       "  </thead>\n",
       "  <tbody>\n",
       "    <tr>\n",
       "      <th>5519929</th>\n",
       "      <td>657826</td>\n",
       "      <td>2019-05-28</td>\n",
       "      <td>0</td>\n",
       "      <td>0</td>\n",
       "      <td>0</td>\n",
       "      <td>0</td>\n",
       "      <td>0</td>\n",
       "      <td>0</td>\n",
       "      <td>0</td>\n",
       "      <td>0</td>\n",
       "      <td>...</td>\n",
       "      <td>1</td>\n",
       "      <td>25.0</td>\n",
       "      <td>0</td>\n",
       "      <td>44</td>\n",
       "      <td>0</td>\n",
       "      <td>54493.380000</td>\n",
       "      <td>1</td>\n",
       "      <td>1</td>\n",
       "      <td>0</td>\n",
       "      <td>0</td>\n",
       "    </tr>\n",
       "    <tr>\n",
       "      <th>5519930</th>\n",
       "      <td>657817</td>\n",
       "      <td>2019-05-28</td>\n",
       "      <td>0</td>\n",
       "      <td>0</td>\n",
       "      <td>0</td>\n",
       "      <td>0</td>\n",
       "      <td>0</td>\n",
       "      <td>0</td>\n",
       "      <td>0</td>\n",
       "      <td>0</td>\n",
       "      <td>...</td>\n",
       "      <td>1</td>\n",
       "      <td>8.0</td>\n",
       "      <td>1</td>\n",
       "      <td>32</td>\n",
       "      <td>0</td>\n",
       "      <td>110949.866710</td>\n",
       "      <td>0</td>\n",
       "      <td>0</td>\n",
       "      <td>0</td>\n",
       "      <td>0</td>\n",
       "    </tr>\n",
       "    <tr>\n",
       "      <th>5519931</th>\n",
       "      <td>657986</td>\n",
       "      <td>2019-05-28</td>\n",
       "      <td>0</td>\n",
       "      <td>0</td>\n",
       "      <td>0</td>\n",
       "      <td>0</td>\n",
       "      <td>0</td>\n",
       "      <td>0</td>\n",
       "      <td>1</td>\n",
       "      <td>1</td>\n",
       "      <td>...</td>\n",
       "      <td>1</td>\n",
       "      <td>41.0</td>\n",
       "      <td>0</td>\n",
       "      <td>39</td>\n",
       "      <td>0</td>\n",
       "      <td>100993.170000</td>\n",
       "      <td>6</td>\n",
       "      <td>4</td>\n",
       "      <td>1</td>\n",
       "      <td>1</td>\n",
       "    </tr>\n",
       "    <tr>\n",
       "      <th>5519932</th>\n",
       "      <td>657905</td>\n",
       "      <td>2019-05-28</td>\n",
       "      <td>0</td>\n",
       "      <td>0</td>\n",
       "      <td>0</td>\n",
       "      <td>0</td>\n",
       "      <td>0</td>\n",
       "      <td>1</td>\n",
       "      <td>0</td>\n",
       "      <td>0</td>\n",
       "      <td>...</td>\n",
       "      <td>1</td>\n",
       "      <td>28.0</td>\n",
       "      <td>0</td>\n",
       "      <td>85</td>\n",
       "      <td>0</td>\n",
       "      <td>154059.090000</td>\n",
       "      <td>2</td>\n",
       "      <td>1</td>\n",
       "      <td>0</td>\n",
       "      <td>1</td>\n",
       "    </tr>\n",
       "    <tr>\n",
       "      <th>5519933</th>\n",
       "      <td>657336</td>\n",
       "      <td>2019-05-28</td>\n",
       "      <td>0</td>\n",
       "      <td>0</td>\n",
       "      <td>0</td>\n",
       "      <td>0</td>\n",
       "      <td>0</td>\n",
       "      <td>0</td>\n",
       "      <td>0</td>\n",
       "      <td>0</td>\n",
       "      <td>...</td>\n",
       "      <td>1</td>\n",
       "      <td>28.0</td>\n",
       "      <td>1</td>\n",
       "      <td>38</td>\n",
       "      <td>0</td>\n",
       "      <td>106793.037009</td>\n",
       "      <td>1</td>\n",
       "      <td>1</td>\n",
       "      <td>0</td>\n",
       "      <td>0</td>\n",
       "    </tr>\n",
       "  </tbody>\n",
       "</table>\n",
       "<p>5 rows × 30 columns</p>\n",
       "</div>"
      ],
      "text/plain": [
       "         pk_cid pk_partition  short_term_deposit  loans  mortgage  funds  \\\n",
       "5519929  657826   2019-05-28                   0      0         0      0   \n",
       "5519930  657817   2019-05-28                   0      0         0      0   \n",
       "5519931  657986   2019-05-28                   0      0         0      0   \n",
       "5519932  657905   2019-05-28                   0      0         0      0   \n",
       "5519933  657336   2019-05-28                   0      0         0      0   \n",
       "\n",
       "         securities  long_term_deposit  credit_card  payroll  ...  country_id  \\\n",
       "5519929           0                  0            0        0  ...           1   \n",
       "5519930           0                  0            0        0  ...           1   \n",
       "5519931           0                  0            1        1  ...           1   \n",
       "5519932           0                  1            0        0  ...           1   \n",
       "5519933           0                  0            0        0  ...           1   \n",
       "\n",
       "         region_code  gender  age  deceased         salary total_products  \\\n",
       "5519929         25.0       0   44         0   54493.380000              1   \n",
       "5519930          8.0       1   32         0  110949.866710              0   \n",
       "5519931         41.0       0   39         0  100993.170000              6   \n",
       "5519932         28.0       0   85         0  154059.090000              2   \n",
       "5519933         28.0       1   38         0  106793.037009              1   \n",
       "\n",
       "         account_prod  financing_prod  saving_prod  \n",
       "5519929             1               0            0  \n",
       "5519930             0               0            0  \n",
       "5519931             4               1            1  \n",
       "5519932             1               0            1  \n",
       "5519933             1               0            0  \n",
       "\n",
       "[5 rows x 30 columns]"
      ]
     },
     "execution_count": 6,
     "metadata": {},
     "output_type": "execute_result"
    }
   ],
   "source": [
    "df_last_partition = df.loc[(df['pk_partition']== '2019-05-28') &(df['deceased']==0)]\n",
    "print(df_last_partition.shape)\n",
    "df_last_partition.head()"
   ]
  },
  {
   "cell_type": "markdown",
   "metadata": {},
   "source": [
    "##### **Creating new features**\n",
    "\n",
    "In df_last_partition, we are leaving a lot of information from past months unused. We will create some features that collect information about the previous months and in this way we can optimize the construction of the clusters.\n",
    "\n",
    "* Registration time: time from registration to last partition\n",
    "* Total registrations: total product registrations\n",
    "* Total cancellations: total product cancellations\n",
    "* Total revenues: Easymoney revenues from contracted products\n",
    "* Average duration of products"
   ]
  },
  {
   "cell_type": "markdown",
   "metadata": {},
   "source": [
    "**Registration time**  \n",
    "\n",
    "Knowing how long the client has been discharged can provide us with useful information."
   ]
  },
  {
   "cell_type": "code",
   "execution_count": 45,
   "metadata": {},
   "outputs": [],
   "source": [
    "df_last_partition['registration_time'] = (df_last_partition['pk_partition'] - df_last_partition['entry_date']).dt.days"
   ]
  },
  {
   "cell_type": "markdown",
   "metadata": {},
   "source": [
    "**Total registrations and total cancellations**\n",
    "\n",
    "We will calculate how manny times a customer has registered and unsubscribed for each product. Then will see the total registrations and total cancellations per customer.   "
   ]
  },
  {
   "cell_type": "markdown",
   "metadata": {},
   "source": [
    "First of all we load the list of products from the Preprocessing section"
   ]
  },
  {
   "cell_type": "code",
   "execution_count": 8,
   "metadata": {},
   "outputs": [],
   "source": [
    "prod_columns = ['short_term_deposit', 'loans', 'mortgage',\n",
    "       'funds', 'securities', 'long_term_deposit', 'credit_card', 'payroll',\n",
    "       'pension_plan', 'payroll_account', 'emc_account', 'debit_card',\n",
    "       'em_account_p', 'em_account']"
   ]
  },
  {
   "cell_type": "markdown",
   "metadata": {},
   "source": [
    "We create a RegistrationsCancellations function, which will return us how many registrations and cancellations we have per customer and per product."
   ]
  },
  {
   "cell_type": "code",
   "execution_count": 9,
   "metadata": {},
   "outputs": [],
   "source": [
    "def RegistrationsCancellations(df, products):\n",
    "    \n",
    "    for i in products:\n",
    "        previous_month = i + \"_previous_month\"\n",
    "        difference = i + \"_dif\"\n",
    "        dicc_reg = i + \"_dicc_reg\"\n",
    "        dicc_canc = i + \"_dicc_canc\"\n",
    "        registrations = i + \"_registrations\"\n",
    "        cancellations = i + \"_cancellations\"\n",
    "    \n",
    "        #calculation of the contracted product for the previus month and the difference between both months.\n",
    "        df[previous_month] = df.groupby('pk_cid')[i].shift(1)\n",
    "        df[difference] = df[i] - df[previous_month]\n",
    "\n",
    "        # REGISTRATIONS: creation of a diccionary in which -->\n",
    "        # keys = pk_cid  ;  values = number of times difference is equal to 1\n",
    "        dicc_reg = (df.loc[df[difference] == 1].groupby('pk_cid').size()).to_dict()\n",
    "        df[registrations] = df['pk_cid'].map(dicc_reg).fillna(0).astype(int)\n",
    "        \n",
    "        # CANCELLATIONS: creation of a diccionary in which -->\n",
    "        # keys = pk_cid  ;  values = number of times difference is equal to -1\n",
    "        dicc_canc = (df.loc[df[difference] == -1].groupby('pk_cid').size()).to_dict()\n",
    "        df[cancellations] = df['pk_cid'].map(dicc_canc).fillna(0).astype(int)\n",
    "\n",
    "        #remove irrelevant columns\n",
    "        df = df.drop([previous_month,difference], axis = 1)\n",
    "        \n",
    "        \n",
    "    return df\n",
    "    "
   ]
  },
  {
   "cell_type": "code",
   "execution_count": 10,
   "metadata": {},
   "outputs": [],
   "source": [
    "df = RegistrationsCancellations(df, prod_columns)"
   ]
  },
  {
   "cell_type": "markdown",
   "metadata": {},
   "source": [
    "Example: The client with 'pk_cid' == 1052217 we see that he has up to 4 registrations for the debit_card product and 3 cancellations. Let's see how the final df of these columns would look."
   ]
  },
  {
   "cell_type": "code",
   "execution_count": 12,
   "metadata": {},
   "outputs": [
    {
     "data": {
      "text/html": [
       "<div>\n",
       "<style scoped>\n",
       "    .dataframe tbody tr th:only-of-type {\n",
       "        vertical-align: middle;\n",
       "    }\n",
       "\n",
       "    .dataframe tbody tr th {\n",
       "        vertical-align: top;\n",
       "    }\n",
       "\n",
       "    .dataframe thead th {\n",
       "        text-align: right;\n",
       "    }\n",
       "</style>\n",
       "<table border=\"1\" class=\"dataframe\">\n",
       "  <thead>\n",
       "    <tr style=\"text-align: right;\">\n",
       "      <th></th>\n",
       "      <th>pk_partition</th>\n",
       "      <th>debit_card</th>\n",
       "      <th>debit_card_registrations</th>\n",
       "      <th>debit_card_cancellations</th>\n",
       "    </tr>\n",
       "  </thead>\n",
       "  <tbody>\n",
       "    <tr>\n",
       "      <th>884</th>\n",
       "      <td>2018-01-28</td>\n",
       "      <td>0</td>\n",
       "      <td>4</td>\n",
       "      <td>3</td>\n",
       "    </tr>\n",
       "    <tr>\n",
       "      <th>474283</th>\n",
       "      <td>2018-02-28</td>\n",
       "      <td>1</td>\n",
       "      <td>4</td>\n",
       "      <td>3</td>\n",
       "    </tr>\n",
       "    <tr>\n",
       "      <th>694896</th>\n",
       "      <td>2018-03-28</td>\n",
       "      <td>1</td>\n",
       "      <td>4</td>\n",
       "      <td>3</td>\n",
       "    </tr>\n",
       "    <tr>\n",
       "      <th>965738</th>\n",
       "      <td>2018-04-28</td>\n",
       "      <td>1</td>\n",
       "      <td>4</td>\n",
       "      <td>3</td>\n",
       "    </tr>\n",
       "    <tr>\n",
       "      <th>981599</th>\n",
       "      <td>2018-05-28</td>\n",
       "      <td>0</td>\n",
       "      <td>4</td>\n",
       "      <td>3</td>\n",
       "    </tr>\n",
       "    <tr>\n",
       "      <th>1257703</th>\n",
       "      <td>2018-06-28</td>\n",
       "      <td>0</td>\n",
       "      <td>4</td>\n",
       "      <td>3</td>\n",
       "    </tr>\n",
       "    <tr>\n",
       "      <th>1581909</th>\n",
       "      <td>2018-07-28</td>\n",
       "      <td>1</td>\n",
       "      <td>4</td>\n",
       "      <td>3</td>\n",
       "    </tr>\n",
       "    <tr>\n",
       "      <th>2046404</th>\n",
       "      <td>2018-08-28</td>\n",
       "      <td>0</td>\n",
       "      <td>4</td>\n",
       "      <td>3</td>\n",
       "    </tr>\n",
       "    <tr>\n",
       "      <th>2327229</th>\n",
       "      <td>2018-09-28</td>\n",
       "      <td>0</td>\n",
       "      <td>4</td>\n",
       "      <td>3</td>\n",
       "    </tr>\n",
       "    <tr>\n",
       "      <th>2672230</th>\n",
       "      <td>2018-10-28</td>\n",
       "      <td>1</td>\n",
       "      <td>4</td>\n",
       "      <td>3</td>\n",
       "    </tr>\n",
       "    <tr>\n",
       "      <th>3338405</th>\n",
       "      <td>2018-11-28</td>\n",
       "      <td>0</td>\n",
       "      <td>4</td>\n",
       "      <td>3</td>\n",
       "    </tr>\n",
       "    <tr>\n",
       "      <th>3417337</th>\n",
       "      <td>2018-12-28</td>\n",
       "      <td>0</td>\n",
       "      <td>4</td>\n",
       "      <td>3</td>\n",
       "    </tr>\n",
       "    <tr>\n",
       "      <th>4163437</th>\n",
       "      <td>2019-01-28</td>\n",
       "      <td>1</td>\n",
       "      <td>4</td>\n",
       "      <td>3</td>\n",
       "    </tr>\n",
       "    <tr>\n",
       "      <th>4495264</th>\n",
       "      <td>2019-02-28</td>\n",
       "      <td>1</td>\n",
       "      <td>4</td>\n",
       "      <td>3</td>\n",
       "    </tr>\n",
       "    <tr>\n",
       "      <th>5079917</th>\n",
       "      <td>2019-03-28</td>\n",
       "      <td>1</td>\n",
       "      <td>4</td>\n",
       "      <td>3</td>\n",
       "    </tr>\n",
       "    <tr>\n",
       "      <th>5172943</th>\n",
       "      <td>2019-04-28</td>\n",
       "      <td>1</td>\n",
       "      <td>4</td>\n",
       "      <td>3</td>\n",
       "    </tr>\n",
       "    <tr>\n",
       "      <th>5784304</th>\n",
       "      <td>2019-05-28</td>\n",
       "      <td>1</td>\n",
       "      <td>4</td>\n",
       "      <td>3</td>\n",
       "    </tr>\n",
       "  </tbody>\n",
       "</table>\n",
       "</div>"
      ],
      "text/plain": [
       "        pk_partition  debit_card  debit_card_registrations  \\\n",
       "884       2018-01-28           0                         4   \n",
       "474283    2018-02-28           1                         4   \n",
       "694896    2018-03-28           1                         4   \n",
       "965738    2018-04-28           1                         4   \n",
       "981599    2018-05-28           0                         4   \n",
       "1257703   2018-06-28           0                         4   \n",
       "1581909   2018-07-28           1                         4   \n",
       "2046404   2018-08-28           0                         4   \n",
       "2327229   2018-09-28           0                         4   \n",
       "2672230   2018-10-28           1                         4   \n",
       "3338405   2018-11-28           0                         4   \n",
       "3417337   2018-12-28           0                         4   \n",
       "4163437   2019-01-28           1                         4   \n",
       "4495264   2019-02-28           1                         4   \n",
       "5079917   2019-03-28           1                         4   \n",
       "5172943   2019-04-28           1                         4   \n",
       "5784304   2019-05-28           1                         4   \n",
       "\n",
       "         debit_card_cancellations  \n",
       "884                             3  \n",
       "474283                          3  \n",
       "694896                          3  \n",
       "965738                          3  \n",
       "981599                          3  \n",
       "1257703                         3  \n",
       "1581909                         3  \n",
       "2046404                         3  \n",
       "2327229                         3  \n",
       "2672230                         3  \n",
       "3338405                         3  \n",
       "3417337                         3  \n",
       "4163437                         3  \n",
       "4495264                         3  \n",
       "5079917                         3  \n",
       "5172943                         3  \n",
       "5784304                         3  "
      ]
     },
     "execution_count": 12,
     "metadata": {},
     "output_type": "execute_result"
    }
   ],
   "source": [
    "df.loc[df['pk_cid'] == 1052217, ['pk_partition', 'debit_card','debit_card_registrations', 'debit_card_cancellations'] ]"
   ]
  },
  {
   "cell_type": "markdown",
   "metadata": {},
   "source": [
    "Now we have everything necessary to calculate for each client how many **Total Registrations and Cancellations** they have. We create a function, which will return us how many total registrations and total cancellations we have per customer."
   ]
  },
  {
   "cell_type": "code",
   "execution_count": 21,
   "metadata": {},
   "outputs": [],
   "source": [
    "def TotalRegistrationsCancellations(df):\n",
    "    \n",
    "    df['Total_registrations'] = df.filter(like='registration').sum(axis=1)\n",
    "    df['Total_cancellations'] = df.filter(like='cancellation').sum(axis=1)\n",
    "    \n",
    "    return df"
   ]
  },
  {
   "cell_type": "code",
   "execution_count": 22,
   "metadata": {},
   "outputs": [],
   "source": [
    "df = TotalRegistrationsCancellations(df)"
   ]
  },
  {
   "cell_type": "code",
   "execution_count": 30,
   "metadata": {},
   "outputs": [
    {
     "data": {
      "text/html": [
       "<div>\n",
       "<style scoped>\n",
       "    .dataframe tbody tr th:only-of-type {\n",
       "        vertical-align: middle;\n",
       "    }\n",
       "\n",
       "    .dataframe tbody tr th {\n",
       "        vertical-align: top;\n",
       "    }\n",
       "\n",
       "    .dataframe thead th {\n",
       "        text-align: right;\n",
       "    }\n",
       "</style>\n",
       "<table border=\"1\" class=\"dataframe\">\n",
       "  <thead>\n",
       "    <tr style=\"text-align: right;\">\n",
       "      <th></th>\n",
       "      <th>pk_cid</th>\n",
       "      <th>Total_registrations</th>\n",
       "      <th>Total_cancellations</th>\n",
       "    </tr>\n",
       "  </thead>\n",
       "  <tbody>\n",
       "    <tr>\n",
       "      <th>4602906</th>\n",
       "      <td>1119259</td>\n",
       "      <td>0</td>\n",
       "      <td>0</td>\n",
       "    </tr>\n",
       "    <tr>\n",
       "      <th>3062389</th>\n",
       "      <td>1213331</td>\n",
       "      <td>0</td>\n",
       "      <td>0</td>\n",
       "    </tr>\n",
       "    <tr>\n",
       "      <th>1501125</th>\n",
       "      <td>1112709</td>\n",
       "      <td>1</td>\n",
       "      <td>2</td>\n",
       "    </tr>\n",
       "    <tr>\n",
       "      <th>5327701</th>\n",
       "      <td>1343928</td>\n",
       "      <td>0</td>\n",
       "      <td>0</td>\n",
       "    </tr>\n",
       "    <tr>\n",
       "      <th>297240</th>\n",
       "      <td>1147020</td>\n",
       "      <td>0</td>\n",
       "      <td>0</td>\n",
       "    </tr>\n",
       "    <tr>\n",
       "      <th>874930</th>\n",
       "      <td>1316892</td>\n",
       "      <td>0</td>\n",
       "      <td>0</td>\n",
       "    </tr>\n",
       "    <tr>\n",
       "      <th>4774776</th>\n",
       "      <td>1314790</td>\n",
       "      <td>0</td>\n",
       "      <td>0</td>\n",
       "    </tr>\n",
       "    <tr>\n",
       "      <th>3812796</th>\n",
       "      <td>1467903</td>\n",
       "      <td>0</td>\n",
       "      <td>0</td>\n",
       "    </tr>\n",
       "    <tr>\n",
       "      <th>5569024</th>\n",
       "      <td>1377994</td>\n",
       "      <td>2</td>\n",
       "      <td>1</td>\n",
       "    </tr>\n",
       "    <tr>\n",
       "      <th>5393409</th>\n",
       "      <td>1452152</td>\n",
       "      <td>2</td>\n",
       "      <td>2</td>\n",
       "    </tr>\n",
       "  </tbody>\n",
       "</table>\n",
       "</div>"
      ],
      "text/plain": [
       "          pk_cid  Total_registrations  Total_cancellations\n",
       "4602906  1119259                    0                    0\n",
       "3062389  1213331                    0                    0\n",
       "1501125  1112709                    1                    2\n",
       "5327701  1343928                    0                    0\n",
       "297240   1147020                    0                    0\n",
       "874930   1316892                    0                    0\n",
       "4774776  1314790                    0                    0\n",
       "3812796  1467903                    0                    0\n",
       "5569024  1377994                    2                    1\n",
       "5393409  1452152                    2                    2"
      ]
     },
     "execution_count": 30,
     "metadata": {},
     "output_type": "execute_result"
    }
   ],
   "source": [
    "df[['pk_cid','Total_registrations','Total_cancellations']].sample(10)"
   ]
  },
  {
   "cell_type": "markdown",
   "metadata": {},
   "source": [
    "**Total revenues**\n",
    "\n",
    "Easymoney gives us the following information about the income it receives from product registrations:  \n",
    "* €10 for each account product sold\n",
    "* €40 for each savings product sold\n",
    "* €60 for each financing product sold   \n",
    "\n",
    "\n",
    "First of all we load the list of the different products from the Preprocessing section"
   ]
  },
  {
   "cell_type": "code",
   "execution_count": 31,
   "metadata": {},
   "outputs": [],
   "source": [
    "account_prod = ['payroll', 'payroll_account', 'emc_account', 'em_account_p', 'em_account', \n",
    "                'debit_card']\n",
    "financing_prod = ['loans', 'mortgage', 'credit_card']\n",
    "saving_prod = ['short_term_deposit', 'funds', 'securities', 'long_term_deposit',\n",
    "               'pension_plan' ]"
   ]
  },
  {
   "cell_type": "markdown",
   "metadata": {},
   "source": [
    "We create the feature total revenue:"
   ]
  },
  {
   "cell_type": "code",
   "execution_count": 34,
   "metadata": {},
   "outputs": [],
   "source": [
    "df['total_revenue'] = df['payroll_registrations']*10 + df['payroll_account_registrations']*10 + df['emc_account_registrations']*10 + df['em_account_p_registrations']*10 + df['em_account_registrations']*10 + df['debit_card_registrations']*10 + df['loans_registrations']*60 + df['mortgage_registrations']*60 + df['credit_card_registrations']*60 + df['short_term_deposit_registrations']*40 + df['funds_registrations']*40 + df['securities_registrations']*40 + df['long_term_deposit_registrations']*40 + df['pension_plan_registrations']*40"
   ]
  },
  {
   "cell_type": "markdown",
   "metadata": {},
   "source": [
    "We see how total_feature has values from 0 to 550 at most.\n",
    "We also observe that the vast majority of clients have a 0 in this variable, that is, we can already see that there are many clients who have registered on the platform, but who have never contracted a product."
   ]
  },
  {
   "cell_type": "code",
   "execution_count": 41,
   "metadata": {},
   "outputs": [
    {
     "data": {
      "text/plain": [
       "array([ 20,   0,  50,  10,  40,  60,  70, 200, 130, 190, 110,  80, 160,\n",
       "       120, 100,  90,  30, 150, 260, 230, 220, 140, 170, 330, 180, 210,\n",
       "       240, 310, 280, 250, 290, 300, 270, 390, 410, 320, 380, 360, 370,\n",
       "       420, 450, 400, 440, 340, 350, 430, 460, 550, 470, 500, 490])"
      ]
     },
     "execution_count": 41,
     "metadata": {},
     "output_type": "execute_result"
    }
   ],
   "source": [
    "df['total_revenue'].unique()"
   ]
  },
  {
   "cell_type": "code",
   "execution_count": 44,
   "metadata": {},
   "outputs": [
    {
     "data": {
      "text/plain": [
       "total_revenue\n",
       "0      4704895\n",
       "10      463407\n",
       "20      156704\n",
       "60       96041\n",
       "40       72142\n",
       "30       71543\n",
       "50       67088\n",
       "70       66577\n",
       "80       36116\n",
       "120      35947\n",
       "Name: count, dtype: int64"
      ]
     },
     "execution_count": 44,
     "metadata": {},
     "output_type": "execute_result"
    }
   ],
   "source": [
    "df['total_revenue'].value_counts().head(10)"
   ]
  },
  {
   "cell_type": "markdown",
   "metadata": {},
   "source": [
    "**Average duration of products**"
   ]
  },
  {
   "cell_type": "code",
   "execution_count": null,
   "metadata": {},
   "outputs": [],
   "source": [
    "def DurationProducts(df, products):\n",
    "    \n",
    "    df"
   ]
  }
 ],
 "metadata": {
  "kernelspec": {
   "display_name": "Python 3",
   "language": "python",
   "name": "python3"
  },
  "language_info": {
   "codemirror_mode": {
    "name": "ipython",
    "version": 3
   },
   "file_extension": ".py",
   "mimetype": "text/x-python",
   "name": "python",
   "nbconvert_exporter": "python",
   "pygments_lexer": "ipython3",
   "version": "3.10.0"
  }
 },
 "nbformat": 4,
 "nbformat_minor": 2
}
